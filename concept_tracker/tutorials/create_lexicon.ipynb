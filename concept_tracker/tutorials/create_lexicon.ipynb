{
 "cells": [
  {
   "cell_type": "markdown",
   "id": "a9424631-9d1d-4fc6-b1e0-29c5c85126bc",
   "metadata": {},
   "source": [
    "# Tutorial to use construct-tracker for creating lexicons with Generative AI\n",
    "\n",
    "\n",
    "- Author: Daniel M. Low\n",
    "- License: Apache 2.0\n",
    "- Date: 01/30/2024"
   ]
  },
  {
   "cell_type": "code",
   "execution_count": 22,
   "id": "ced1e891-51e1-4ad6-9169-5c3cf83b9736",
   "metadata": {},
   "outputs": [],
   "source": [
    "import sys\n",
    "import os\n",
    "import litellm\n",
    "sys.path.append( './../../concept-tracker/') # TODO: replace with pip install construct-tracker\n",
    "from concept_tracker import lexicon\n",
    "from concept_tracker import api_keys # local"
   ]
  },
  {
   "cell_type": "markdown",
   "id": "1ef4e05f-d627-4e45-bca0-265912d5443a",
   "metadata": {},
   "source": [
    "# Load API keys"
   ]
  },
  {
   "cell_type": "code",
   "execution_count": 23,
   "id": "87ec4a0b-f981-4cf4-8954-8a4dad83b38e",
   "metadata": {},
   "outputs": [],
   "source": [
    "\n",
    "os.environ[\"OPENAI_API_KEY\"]  = api_keys.open_ai  # str, API key and put at least $5 in the account\n",
    "os.environ[\"COHERE_API_KEY\"] = api_keys.cohere_trial # str, free trial API key, 5 requests per minute\n",
    "gpt4_turbo = \"gpt-4-1106-preview\"\n",
    "cohere = 'command-nightly'\n",
    "litellm.drop_params=True # will ignore paramaters you set if they don't belong in a model\n",
    "\n",
    "\n"
   ]
  },
  {
   "cell_type": "markdown",
   "id": "c420aa63-f0ff-491a-ba45-fe343d748c2a",
   "metadata": {},
   "source": [
    "# Create lexicon for a new construct with GenAI\n"
   ]
  },
  {
   "cell_type": "code",
   "execution_count": 24,
   "id": "6049d372-0483-49bf-9848-f406bcaa8a31",
   "metadata": {},
   "outputs": [
    {
     "name": "stderr",
     "output_type": "stream",
     "text": [
      "/Users/danielmlow/Dropbox (MIT)/datum/concept-tracker/concept_tracker/lexicon.py:479: UserWarning: 'Insight' not in lexicon. Creating new entry for it. This warning is useful so you if you have a typo in the construct name, you don't add a new entry by mistake.\n",
      "  warnings.warn(f\"'{construct}' not in lexicon. Creating new entry for it. This warning is useful so you if you have a typo in the construct name, you don't add a new entry by mistake.\")\n"
     ]
    },
    {
     "name": "stdout",
     "output_type": "stream",
     "text": [
      "['acuity', 'and', 'articulation', 'astuteness', 'awareness', 'characterization', 'clarity', 'comprehension', 'conceptualization', 'creativity', 'cunning', 'description', 'discernment', 'eloquence', 'emotional realization', 'end realization', 'enlightenment', 'epiphany', 'expression', 'foresight', 'hindsight', 'identification', 'imagination', 'insight', 'intellectual realization', 'introspection', 'intuition', 'lucidity', 'observation', 'penetration', 'perception', 'realization', 'realization of consequence', 'realization of potential', 'realization of purpose', 'realization of truth', 'recognition', 'result realization', 'sagacity', 'savvy', 'self-awareness', 'sharpness', 'sixth sense', 'spiritual realization', 'street smarts', 'three hundred sixty degree perspective', 'understanding', 'verbalization', 'vision', 'wisdom', 'wit']\n"
     ]
    }
   ],
   "source": [
    "l = lexicon.Lexicon()         # Initialize lexicon\n",
    "l.add('Insight', section = 'tokens', value = 'create', source = cohere, max_tokens = 150)\n",
    "print(l.constructs['Insight']['tokens'])"
   ]
  },
  {
   "cell_type": "markdown",
   "id": "cfc4b3e4-2a03-45bb-b6f9-cfe7ac322192",
   "metadata": {},
   "source": [
    "# Extract counts"
   ]
  },
  {
   "cell_type": "code",
   "execution_count": 25,
   "id": "3afafc55-eb17-40eb-8c93-8ef0a7b7b185",
   "metadata": {},
   "outputs": [
    {
     "name": "stderr",
     "output_type": "stream",
     "text": [
      "  0%|                                                     | 0/1 [00:00<?, ?it/s]/Users/danielmlow/Dropbox (MIT)/datum/concept-tracker/concept_tracker/lexicon.py:894: UserWarning: Lemmatizing the tokens. We recommend you lemmatize before extracting so you can save time if you want to repeat extraction on different documents.\n",
      "  warnings.warn('Lemmatizing the tokens. We recommend you lemmatize before extracting so you can save time if you want to repeat extraction on different documents.')\n",
      "100%|█████████████████████████████████████████████| 1/1 [00:01<00:00,  1.14s/it]\n"
     ]
    },
    {
     "data": {
      "text/html": [
       "<div>\n",
       "<style scoped>\n",
       "    .dataframe tbody tr th:only-of-type {\n",
       "        vertical-align: middle;\n",
       "    }\n",
       "\n",
       "    .dataframe tbody tr th {\n",
       "        vertical-align: top;\n",
       "    }\n",
       "\n",
       "    .dataframe thead th {\n",
       "        text-align: right;\n",
       "    }\n",
       "</style>\n",
       "<table border=\"1\" class=\"dataframe\">\n",
       "  <thead>\n",
       "    <tr style=\"text-align: right;\">\n",
       "      <th></th>\n",
       "      <th>Insight</th>\n",
       "      <th>word_count</th>\n",
       "    </tr>\n",
       "  </thead>\n",
       "  <tbody>\n",
       "    <tr>\n",
       "      <th>0</th>\n",
       "      <td>4</td>\n",
       "      <td>17</td>\n",
       "    </tr>\n",
       "    <tr>\n",
       "      <th>1</th>\n",
       "      <td>0</td>\n",
       "      <td>8</td>\n",
       "    </tr>\n",
       "  </tbody>\n",
       "</table>\n",
       "</div>"
      ],
      "text/plain": [
       "   Insight  word_count\n",
       "0        4          17\n",
       "1        0           8"
      ]
     },
     "execution_count": 25,
     "metadata": {},
     "output_type": "execute_result"
    }
   ],
   "source": [
    "documents = [\"Every time I speak with my cousin Bob, I have great moments of insight, clarity, and wisdom\",\n",
    "             \"He meditates a lot, but he's not super smart\"]\n",
    "feature_vectors, matches_counter_d, matches_per_doc, matches_per_construct  = lexicon.extract(documents,\n",
    "                                                                                      l.constructs,\n",
    "                                                                                      normalize = False,\n",
    "                                                                                      )\n",
    "feature_vectors"
   ]
  },
  {
   "cell_type": "markdown",
   "id": "dfb85212-e126-4592-9cdc-845ff6e8ecf3",
   "metadata": {},
   "source": [
    "# Add definition and examples to prompt\n"
   ]
  },
  {
   "cell_type": "code",
   "execution_count": 26,
   "id": "55285d65-abe0-42aa-8882-515efbfa6a03",
   "metadata": {},
   "outputs": [
    {
     "name": "stdout",
     "output_type": "stream",
     "text": [
      "Provide many single words and some short phrases related to Insight (in the mental health domain). Each token should be separated by a semicolon. Do not return duplicate tokens. Do not provide any explanation or additional text beyond the tokens.\n",
      "Here is a definition of Insight: understanding or awareness of one's mental or emotional state or condition\n",
      "Here are some examples (include these in the list): insight; realized; learn; breakthrough.\n"
     ]
    }
   ],
   "source": [
    "construct = 'Insight'\n",
    "definition = \"understanding or awareness of one's mental or emotional state or condition\"\n",
    "examples = 'insight; realized; learn; breakthrough'\n",
    "prompt = lexicon.generate_prompt(construct,\n",
    "                         prompt_name=construct,\n",
    "                         domain = 'mental health',\n",
    "\t\t\t\t\t\t definition = definition,\n",
    "\t\t\t\t\t\t examples = examples)\n",
    "print(prompt)\n",
    "\n",
    "# Save definition and examples in lexicon\n",
    "l.constructs[construct]['definition'] = definition\n",
    "l.constructs[construct]['definition_references'] = 'DML'\n",
    "l.constructs[construct]['examples'] = examples\n"
   ]
  },
  {
   "cell_type": "markdown",
   "id": "39399ae5-db6b-4fb9-a9b0-3316d00d7eb1",
   "metadata": {},
   "source": [
    "# Try GPT-4 Turbo model\n"
   ]
  },
  {
   "cell_type": "code",
   "execution_count": 27,
   "id": "bab70782-5ff0-4fa4-a0fd-49a95151fffd",
   "metadata": {},
   "outputs": [
    {
     "data": {
      "text/plain": [
       "['acuity',\n",
       " 'aha moment',\n",
       " 'and',\n",
       " 'articulation',\n",
       " 'astuteness',\n",
       " 'awakening',\n",
       " 'awareness',\n",
       " 'breakthrough',\n",
       " 'characterization',\n",
       " 'clarity',\n",
       " 'cognizance',\n",
       " 'comprehension',\n",
       " 'conceptualization',\n",
       " 'consciousness',\n",
       " 'creativity',\n",
       " 'cunning',\n",
       " 'description',\n",
       " 'discernment',\n",
       " 'discovery',\n",
       " 'eloquence',\n",
       " 'emotional realization',\n",
       " 'end realization',\n",
       " 'enlightenment',\n",
       " 'epiphany',\n",
       " 'expression',\n",
       " 'foresight',\n",
       " 'grasp',\n",
       " 'hindsight',\n",
       " 'identification',\n",
       " 'illumination',\n",
       " 'imagination',\n",
       " 'insight',\n",
       " 'intellectual realization',\n",
       " 'introspection',\n",
       " 'intuition',\n",
       " 'learn',\n",
       " 'lucidity',\n",
       " 'mental',\n",
       " 'mental clarity',\n",
       " 'mindfulness',\n",
       " 'observation',\n",
       " 'penetration',\n",
       " 'perception',\n",
       " 'realization',\n",
       " 'realization of consequence',\n",
       " 'realization of potential',\n",
       " 'realization of purpose',\n",
       " 'realization of truth',\n",
       " 'realized',\n",
       " 'recognition',\n",
       " 'reflection',\n",
       " 'result realization',\n",
       " 'revelation',\n",
       " 'sagacity',\n",
       " 'savvy',\n",
       " 'self-analysis',\n",
       " 'self-appraisal',\n",
       " 'self-assessment',\n",
       " 'self-awareness',\n",
       " 'self-consciousness',\n",
       " 'self-consideration',\n",
       " 'self-contemplation',\n",
       " 'self-discovery',\n",
       " 'self-evaluation',\n",
       " 'self-examination',\n",
       " 'self-exploration',\n",
       " 'self-inquiry',\n",
       " 'self-knowledge',\n",
       " 'self-observation',\n",
       " 'self-perception',\n",
       " 'self-questioning',\n",
       " 'self-realization',\n",
       " 'self-recognition',\n",
       " 'self-reflection',\n",
       " 'self-scrutiny',\n",
       " 'self-understanding',\n",
       " 'sharpness',\n",
       " 'sixth sense',\n",
       " 'spiritual realization',\n",
       " 'street smarts',\n",
       " 'three hundred sixty degree perspective',\n",
       " 'understanding',\n",
       " 'verbalization',\n",
       " 'vision',\n",
       " 'wisdom',\n",
       " 'wit']"
      ]
     },
     "execution_count": 27,
     "metadata": {},
     "output_type": "execute_result"
    }
   ],
   "source": [
    "l.add(construct, section = 'tokens', value = 'create', prompt = prompt, source = gpt4_turbo, temperature = 0.5, top_p=0.9, seed = 42, max_tokens = 150)\n",
    "l.constructs[construct]['tokens'] # Will merge with other tokens already generated\n",
    "# I do this 3 times with different temperatures"
   ]
  },
  {
   "cell_type": "code",
   "execution_count": 30,
   "id": "7c96fc67-925b-4c20-a20c-b7d820b5737c",
   "metadata": {},
   "outputs": [
    {
     "name": "stdout",
     "output_type": "stream",
     "text": [
      "['command-nightly, temperature-0.1, top_p-1, max_tokens-150, seed-42, 24-01-30T18-51-45', 'gpt-4-1106-preview, temperature-0.5, top_p-0.9, max_tokens-150, seed-42, 24-01-30T18-55-52']\n"
     ]
    }
   ],
   "source": [
    "# see which tokens were generated by GPT-4 Turbo. Find specific source\n",
    "print(list(l.constructs[construct]['tokens_metadata'].keys()))"
   ]
  },
  {
   "cell_type": "code",
   "execution_count": 31,
   "id": "3771b4ac-4aa6-4eeb-b141-4d1de83d1b9a",
   "metadata": {},
   "outputs": [
    {
     "data": {
      "text/plain": [
       "{'add_or_remove': 'add',\n",
       " 'tokens': ['aha moment',\n",
       "  'awakening',\n",
       "  'awareness',\n",
       "  'breakthrough',\n",
       "  'clarity',\n",
       "  'cognizance',\n",
       "  'comprehension',\n",
       "  'consciousness',\n",
       "  'discernment',\n",
       "  'discovery',\n",
       "  'enlightenment',\n",
       "  'epiphany',\n",
       "  'grasp',\n",
       "  'illumination',\n",
       "  'introspection',\n",
       "  'learn',\n",
       "  'mental',\n",
       "  'mental clarity',\n",
       "  'mindfulness',\n",
       "  'perception',\n",
       "  'realization',\n",
       "  'realized',\n",
       "  'recognition',\n",
       "  'reflection',\n",
       "  'revelation',\n",
       "  'self-analysis',\n",
       "  'self-appraisal',\n",
       "  'self-assessment',\n",
       "  'self-awareness',\n",
       "  'self-consciousness',\n",
       "  'self-consideration',\n",
       "  'self-contemplation',\n",
       "  'self-discovery',\n",
       "  'self-evaluation',\n",
       "  'self-examination',\n",
       "  'self-exploration',\n",
       "  'self-inquiry',\n",
       "  'self-knowledge',\n",
       "  'self-observation',\n",
       "  'self-perception',\n",
       "  'self-questioning',\n",
       "  'self-realization',\n",
       "  'self-recognition',\n",
       "  'self-reflection',\n",
       "  'self-scrutiny',\n",
       "  'self-understanding',\n",
       "  'understanding'],\n",
       " 'prompt': \"Provide many single words and some short phrases related to Insight (in the mental health domain). Each token should be separated by a semicolon. Do not return duplicate tokens. Do not provide any explanation or additional text beyond the tokens.\\nHere is a definition of Insight: understanding or awareness of one's mental or emotional state or condition\\nHere are some examples (include these in the list): insight; realized; learn; breakthrough.\",\n",
       " 'time_elapsed': 6.8}"
      ]
     },
     "execution_count": 31,
     "metadata": {},
     "output_type": "execute_result"
    }
   ],
   "source": [
    "source = 'gpt-4-1106-preview, temperature-0.5, top_p-0.9, max_tokens-150, seed-42, 24-01-30T18-55-52'\n",
    "l.constructs[construct]['tokens_metadata'][source]"
   ]
  },
  {
   "cell_type": "markdown",
   "id": "9a981a9f-a5b6-4f98-95b3-02c1ee823118",
   "metadata": {},
   "source": [
    "# Manually add or remove"
   ]
  },
  {
   "cell_type": "code",
   "execution_count": 32,
   "id": "c3e8c7b8-674e-413a-9ab0-5d528b3322d0",
   "metadata": {},
   "outputs": [
    {
     "data": {
      "text/plain": [
       "['acuity',\n",
       " 'aha moment',\n",
       " 'and',\n",
       " 'articulation',\n",
       " 'astuteness',\n",
       " 'awakening',\n",
       " 'awareness',\n",
       " 'breakthrough',\n",
       " 'characterization',\n",
       " 'clarity',\n",
       " 'cognizance',\n",
       " 'comprehension',\n",
       " 'conceptualization',\n",
       " 'consciousness',\n",
       " 'creativity',\n",
       " 'cunning',\n",
       " 'description',\n",
       " 'discernment',\n",
       " 'discovery',\n",
       " 'eloquence',\n",
       " 'emotional realization',\n",
       " 'end realization',\n",
       " 'enlightenment',\n",
       " 'epiphany',\n",
       " 'expression',\n",
       " 'foresight',\n",
       " 'grasp',\n",
       " 'hindsight',\n",
       " 'identification',\n",
       " 'illumination',\n",
       " 'imagination',\n",
       " 'insight',\n",
       " 'intellectual realization',\n",
       " 'introspection',\n",
       " 'intuition',\n",
       " 'learn',\n",
       " 'lucidity',\n",
       " 'mental',\n",
       " 'mental clarity',\n",
       " 'mindfulness',\n",
       " 'observation',\n",
       " 'penetration',\n",
       " 'realization',\n",
       " 'realization of consequence',\n",
       " 'realization of potential',\n",
       " 'realization of purpose',\n",
       " 'realization of truth',\n",
       " 'realized',\n",
       " 'recognition',\n",
       " 'recognize',\n",
       " 'reflection',\n",
       " 'result realization',\n",
       " 'revelation',\n",
       " 'sagacity',\n",
       " 'savvy',\n",
       " 'self-analysis',\n",
       " 'self-appraisal',\n",
       " 'self-assessment',\n",
       " 'self-awareness',\n",
       " 'self-consciousness',\n",
       " 'self-consideration',\n",
       " 'self-contemplation',\n",
       " 'self-discovery',\n",
       " 'self-evaluation',\n",
       " 'self-examination',\n",
       " 'self-exploration',\n",
       " 'self-inquiry',\n",
       " 'self-knowledge',\n",
       " 'self-observation',\n",
       " 'self-perception',\n",
       " 'self-questioning',\n",
       " 'self-realization',\n",
       " 'self-recognition',\n",
       " 'self-reflection',\n",
       " 'self-scrutiny',\n",
       " 'self-understanding',\n",
       " 'sharpness',\n",
       " 'sixth sense',\n",
       " 'spiritual realization',\n",
       " 'street smarts',\n",
       " 'three hundred sixty degree perspective',\n",
       " 'understanding',\n",
       " 'verbalization',\n",
       " 'vision',\n",
       " 'wisdom',\n",
       " 'wit']"
      ]
     },
     "execution_count": 32,
     "metadata": {},
     "output_type": "execute_result"
    }
   ],
   "source": [
    "l.remove(construct, source = 'DML manually removing', remove_tokens = ['perception'])\n",
    "l.add(construct, section ='tokens',value = ['recognize'], source=\"DML added manually\")\n",
    "l.constructs[construct]['tokens']"
   ]
  },
  {
   "cell_type": "markdown",
   "id": "3f696326-06ca-48c7-a758-f04290b2db87",
   "metadata": {},
   "source": [
    "# Add another construct and generate definition with GPT-4 Turbo"
   ]
  },
  {
   "cell_type": "code",
   "execution_count": 33,
   "id": "4d522992-305f-4311-8e19-c49835150e62",
   "metadata": {},
   "outputs": [
    {
     "name": "stdout",
     "output_type": "stream",
     "text": [
      "Mindfulness is the practice of being fully present and engaged in the moment, aware of one's thoughts and feelings without judgment or distraction.\n"
     ]
    }
   ],
   "source": [
    "construct = 'Mindfulness'\n",
    "examples = 'mindfulness; meditation; Buddhism'\n",
    "definition = lexicon.api_request(f'Very brief definition of {construct}', model=gpt4_turbo)\n",
    "print(definition)"
   ]
  },
  {
   "cell_type": "code",
   "execution_count": 34,
   "id": "921ef311-86c4-4047-9bc5-146d113abd0a",
   "metadata": {},
   "outputs": [
    {
     "name": "stdout",
     "output_type": "stream",
     "text": [
      "Provide many single words and some short phrases related to mindfulness. Each token should be separated by a semicolon. Do not return duplicate tokens. Do not provide any explanation or additional text beyond the tokens.\n",
      "Here is a definition of mindfulness: mindfulness is the practice of being fully present and engaged in the moment, aware of one's thoughts and feelings without judgment or distraction.\n",
      "Here are some examples (include these in the list): mindfulness; meditation; Buddhism.\n"
     ]
    }
   ],
   "source": [
    "# Generate prompt\n",
    "prompt = lexicon.generate_prompt(construct, definition = definition, examples = examples)\n",
    "print(prompt)"
   ]
  },
  {
   "cell_type": "code",
   "execution_count": 35,
   "id": "9f53605d-ff61-420f-8e38-de6e81e67408",
   "metadata": {},
   "outputs": [
    {
     "name": "stderr",
     "output_type": "stream",
     "text": [
      "/Users/danielmlow/Dropbox (MIT)/datum/concept-tracker/concept_tracker/lexicon.py:479: UserWarning: 'Mindfulness' not in lexicon. Creating new entry for it. This warning is useful so you if you have a typo in the construct name, you don't add a new entry by mistake.\n",
      "  warnings.warn(f\"'{construct}' not in lexicon. Creating new entry for it. This warning is useful so you if you have a typo in the construct name, you don't add a new entry by mistake.\")\n"
     ]
    },
    {
     "name": "stdout",
     "output_type": "stream",
     "text": [
      "['Buddhism', 'acceptance', 'attention', 'awareness', 'balance', 'breath', 'breathe', 'calm', 'centeredness', 'clarity', 'compassion', 'connection', 'consciousness', 'contemplation', 'detachment', 'discernment', 'ease', 'empathy', 'equanimity', 'flow', 'focus', 'grounding', 'harmony', 'impermanence', 'insight', 'intention', 'intuition', 'journey', 'kindness', 'letting go', 'loving-kindness', 'meditation', 'mindfulness', 'moment', 'non-attachment', 'non-judgmental', 'observe', 'openness', 'patience', 'pause', 'peace', 'perception', 'practice', 'presence', 'present', 'quietude', 'reflection', 'relaxation', 'serenity', 'silence', 'simplicity', 'solitude', 'stability', 'stillness', 'thoughtfulness', 'tranquility', 'understanding', 'vigilance', 'wakefulness', 'yin', 'zazen', 'zen']\n"
     ]
    }
   ],
   "source": [
    "# Create tokens\n",
    "l.add(construct, section = 'tokens', value = 'create', prompt = prompt, source = gpt4_turbo, temperature = 0.5, top_p=0.9, seed = 42, max_tokens = 150)\n",
    "print(l.constructs[construct]['tokens'])\n"
   ]
  },
  {
   "cell_type": "markdown",
   "id": "b1f5ac9f-ca12-4e16-9acd-c6fbce9b7529",
   "metadata": {},
   "source": [
    "# Add important missing tokens\n"
   ]
  },
  {
   "cell_type": "code",
   "execution_count": 36,
   "id": "d46d9088-0da8-4be2-93f8-f8a0d4dc483a",
   "metadata": {},
   "outputs": [],
   "source": [
    "l.add(construct, section ='tokens',value = ['meditate'], source=\"DML added manually\")"
   ]
  },
  {
   "cell_type": "markdown",
   "id": "65e6586b-2986-41e8-92e4-d32bb16f2376",
   "metadata": {},
   "source": [
    "# Extract"
   ]
  },
  {
   "cell_type": "code",
   "execution_count": 37,
   "id": "fae3d1de-1e1a-453f-b860-8b867c26e79e",
   "metadata": {},
   "outputs": [
    {
     "name": "stderr",
     "output_type": "stream",
     "text": [
      "  0%|                                                     | 0/2 [00:00<?, ?it/s]/Users/danielmlow/Dropbox (MIT)/datum/concept-tracker/concept_tracker/lexicon.py:894: UserWarning: Lemmatizing the tokens. We recommend you lemmatize before extracting so you can save time if you want to repeat extraction on different documents.\n",
      "  warnings.warn('Lemmatizing the tokens. We recommend you lemmatize before extracting so you can save time if you want to repeat extraction on different documents.')\n",
      "100%|█████████████████████████████████████████████| 2/2 [00:01<00:00,  1.48it/s]\n"
     ]
    },
    {
     "data": {
      "text/html": [
       "<div>\n",
       "<style scoped>\n",
       "    .dataframe tbody tr th:only-of-type {\n",
       "        vertical-align: middle;\n",
       "    }\n",
       "\n",
       "    .dataframe tbody tr th {\n",
       "        vertical-align: top;\n",
       "    }\n",
       "\n",
       "    .dataframe thead th {\n",
       "        text-align: right;\n",
       "    }\n",
       "</style>\n",
       "<table border=\"1\" class=\"dataframe\">\n",
       "  <thead>\n",
       "    <tr style=\"text-align: right;\">\n",
       "      <th></th>\n",
       "      <th>Insight</th>\n",
       "      <th>Mindfulness</th>\n",
       "      <th>word_count</th>\n",
       "    </tr>\n",
       "  </thead>\n",
       "  <tbody>\n",
       "    <tr>\n",
       "      <th>0</th>\n",
       "      <td>4</td>\n",
       "      <td>3</td>\n",
       "      <td>17</td>\n",
       "    </tr>\n",
       "    <tr>\n",
       "      <th>1</th>\n",
       "      <td>0</td>\n",
       "      <td>1</td>\n",
       "      <td>8</td>\n",
       "    </tr>\n",
       "  </tbody>\n",
       "</table>\n",
       "</div>"
      ],
      "text/plain": [
       "   Insight  Mindfulness  word_count\n",
       "0        4            3          17\n",
       "1        0            1           8"
      ]
     },
     "execution_count": 37,
     "metadata": {},
     "output_type": "execute_result"
    }
   ],
   "source": [
    "\n",
    "feature_vectors, matches_counter_d, matches_per_doc, matches_per_construct  = lexicon.extract(documents,\n",
    "                                                                                      l.constructs,\n",
    "                                                                                      normalize = False,\n",
    "                                                                                      return_matches=True,\n",
    "                                                                                      add_lemmatized_lexicon=True,\n",
    "                                                                                      lemmatize_docs=False,\n",
    "                                                                                      exact_match_n = 4,\n",
    "                                                                                      )\n",
    "feature_vectors"
   ]
  },
  {
   "cell_type": "code",
   "execution_count": 38,
   "id": "4633b5f5-8526-40e2-810c-b46b85dbd2b0",
   "metadata": {},
   "outputs": [
    {
     "data": {
      "text/plain": [
       "{0: {'Insight': (4, ['and', 'clarity', 'insight', 'wisdom']),\n",
       "  'Mindfulness': (3, ['clarity', 'insight', 'moment'])},\n",
       " 1: {'Insight': (0, []), 'Mindfulness': (1, ['meditate'])}}"
      ]
     },
     "execution_count": 38,
     "metadata": {},
     "output_type": "execute_result"
    }
   ],
   "source": [
    "matches_per_doc"
   ]
  },
  {
   "cell_type": "code",
   "execution_count": 39,
   "id": "7528a87a-7350-462a-96db-5d023d505a88",
   "metadata": {},
   "outputs": [],
   "source": [
    "# Save to lexicon\n",
    "l.constructs[construct]['definition'] = definition\n",
    "l.constructs[construct]['definition_references'] = gpt4_turbo\n",
    "l.constructs[construct]['examples'] = examples"
   ]
  },
  {
   "cell_type": "code",
   "execution_count": 40,
   "id": "c29d05b0-8d01-48fd-9d36-7c01b8af96c9",
   "metadata": {},
   "outputs": [],
   "source": [
    "l.name = 'Insight lexicon'\n",
    "l.description = 'Insight lexicon with constructs inspired by items of the Emotional Insight Scale'\n",
    "l.save('./../data/lexicons/insight_lexicon')"
   ]
  },
  {
   "cell_type": "code",
   "execution_count": null,
   "id": "059a8af2-5df0-4122-989e-1330934190cc",
   "metadata": {},
   "outputs": [],
   "source": []
  }
 ],
 "metadata": {
  "kernelspec": {
   "display_name": "Python 3 (ipykernel)",
   "language": "python",
   "name": "python3"
  },
  "language_info": {
   "codemirror_mode": {
    "name": "ipython",
    "version": 3
   },
   "file_extension": ".py",
   "mimetype": "text/x-python",
   "name": "python",
   "nbconvert_exporter": "python",
   "pygments_lexer": "ipython3",
   "version": "3.11.5"
  }
 },
 "nbformat": 4,
 "nbformat_minor": 5
}
